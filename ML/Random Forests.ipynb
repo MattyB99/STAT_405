{
  "cells": [
    {
      "cell_type": "code",
      "execution_count": 1,
      "id": "13d7cb74",
      "metadata": {
        "id": "13d7cb74"
      },
      "outputs": [],
      "source": [
        "import pandas as pd\n",
        "import matplotlib.pyplot as plt\n",
        "import math\n",
        "import numpy as np"
      ]
    },
    {
      "cell_type": "code",
      "execution_count": 2,
      "id": "baf0b048",
      "metadata": {
        "colab": {
          "base_uri": "https://localhost:8080/"
        },
        "id": "baf0b048",
        "outputId": "bbb9b9ab-a1d5-45aa-8917-e21b9e9929ad"
      },
      "outputs": [
        {
          "output_type": "stream",
          "name": "stdout",
          "text": [
            "   Unnamed: 0  id    age  gender  height  ...  gluc  smoke  alco  active  cardio\n",
            "0           1   1  20228       1     156  ...     1      0     0       1       1\n",
            "1           3   3  17623       2     169  ...     1      0     0       1       1\n",
            "2           6   9  22113       1     157  ...     1      0     0       1       0\n",
            "3          22  32  23046       1     158  ...     2      0     0       1       1\n",
            "4          24  35  16608       1     170  ...     1      0     0       1       1\n",
            "\n",
            "[5 rows x 14 columns]\n"
          ]
        }
      ],
      "source": [
        "# read in data\n",
        "df = pd.read_csv('./Cluster0', delimiter=',')\n",
        "print(df.head())"
      ]
    },
    {
      "cell_type": "code",
      "execution_count": 8,
      "id": "29330ff7",
      "metadata": {
        "colab": {
          "base_uri": "https://localhost:8080/",
          "height": 206
        },
        "id": "29330ff7",
        "outputId": "e68ab4ad-ed55-4a43-9673-97a34ed6af64"
      },
      "outputs": [
        {
          "output_type": "execute_result",
          "data": {
            "text/html": [
              "<div>\n",
              "<style scoped>\n",
              "    .dataframe tbody tr th:only-of-type {\n",
              "        vertical-align: middle;\n",
              "    }\n",
              "\n",
              "    .dataframe tbody tr th {\n",
              "        vertical-align: top;\n",
              "    }\n",
              "\n",
              "    .dataframe thead th {\n",
              "        text-align: right;\n",
              "    }\n",
              "</style>\n",
              "<table border=\"1\" class=\"dataframe\">\n",
              "  <thead>\n",
              "    <tr style=\"text-align: right;\">\n",
              "      <th></th>\n",
              "      <th>id</th>\n",
              "      <th>age</th>\n",
              "      <th>gender</th>\n",
              "      <th>height</th>\n",
              "      <th>weight</th>\n",
              "      <th>ap_hi</th>\n",
              "      <th>ap_lo</th>\n",
              "      <th>cholesterol</th>\n",
              "      <th>gluc</th>\n",
              "      <th>smoke</th>\n",
              "      <th>alco</th>\n",
              "      <th>active</th>\n",
              "    </tr>\n",
              "  </thead>\n",
              "  <tbody>\n",
              "    <tr>\n",
              "      <th>0</th>\n",
              "      <td>1</td>\n",
              "      <td>20228</td>\n",
              "      <td>1</td>\n",
              "      <td>156</td>\n",
              "      <td>85.0</td>\n",
              "      <td>140</td>\n",
              "      <td>90</td>\n",
              "      <td>3</td>\n",
              "      <td>1</td>\n",
              "      <td>0</td>\n",
              "      <td>0</td>\n",
              "      <td>1</td>\n",
              "    </tr>\n",
              "    <tr>\n",
              "      <th>1</th>\n",
              "      <td>3</td>\n",
              "      <td>17623</td>\n",
              "      <td>2</td>\n",
              "      <td>169</td>\n",
              "      <td>82.0</td>\n",
              "      <td>150</td>\n",
              "      <td>100</td>\n",
              "      <td>1</td>\n",
              "      <td>1</td>\n",
              "      <td>0</td>\n",
              "      <td>0</td>\n",
              "      <td>1</td>\n",
              "    </tr>\n",
              "    <tr>\n",
              "      <th>2</th>\n",
              "      <td>9</td>\n",
              "      <td>22113</td>\n",
              "      <td>1</td>\n",
              "      <td>157</td>\n",
              "      <td>93.0</td>\n",
              "      <td>130</td>\n",
              "      <td>80</td>\n",
              "      <td>3</td>\n",
              "      <td>1</td>\n",
              "      <td>0</td>\n",
              "      <td>0</td>\n",
              "      <td>1</td>\n",
              "    </tr>\n",
              "    <tr>\n",
              "      <th>3</th>\n",
              "      <td>32</td>\n",
              "      <td>23046</td>\n",
              "      <td>1</td>\n",
              "      <td>158</td>\n",
              "      <td>90.0</td>\n",
              "      <td>145</td>\n",
              "      <td>85</td>\n",
              "      <td>2</td>\n",
              "      <td>2</td>\n",
              "      <td>0</td>\n",
              "      <td>0</td>\n",
              "      <td>1</td>\n",
              "    </tr>\n",
              "    <tr>\n",
              "      <th>4</th>\n",
              "      <td>35</td>\n",
              "      <td>16608</td>\n",
              "      <td>1</td>\n",
              "      <td>170</td>\n",
              "      <td>68.0</td>\n",
              "      <td>150</td>\n",
              "      <td>90</td>\n",
              "      <td>3</td>\n",
              "      <td>1</td>\n",
              "      <td>0</td>\n",
              "      <td>0</td>\n",
              "      <td>1</td>\n",
              "    </tr>\n",
              "  </tbody>\n",
              "</table>\n",
              "</div>"
            ],
            "text/plain": [
              "   id    age  gender  height  weight  ...  cholesterol  gluc  smoke  alco  active\n",
              "0   1  20228       1     156    85.0  ...            3     1      0     0       1\n",
              "1   3  17623       2     169    82.0  ...            1     1      0     0       1\n",
              "2   9  22113       1     157    93.0  ...            3     1      0     0       1\n",
              "3  32  23046       1     158    90.0  ...            2     2      0     0       1\n",
              "4  35  16608       1     170    68.0  ...            3     1      0     0       1\n",
              "\n",
              "[5 rows x 12 columns]"
            ]
          },
          "metadata": {},
          "execution_count": 8
        }
      ],
      "source": [
        "df_feat = df.iloc[:,1:-1] # eventhing but last column\n",
        "y = df.loc[:, \"cardio\"] #last column\n",
        "df_feat.drop(\"id\", axis = 1)\n",
        "df_feat.head() # age is in days"
      ]
    },
    {
      "cell_type": "code",
      "execution_count": 9,
      "id": "f47069da",
      "metadata": {
        "colab": {
          "base_uri": "https://localhost:8080/"
        },
        "id": "f47069da",
        "outputId": "7fa344ec-868d-41e7-c20f-2b97e7125489"
      },
      "outputs": [
        {
          "output_type": "stream",
          "name": "stdout",
          "text": [
            "             0         1         2   ...        9         10        11\n",
            "0     -1.738593 -0.059287 -0.359705  ... -0.034555 -0.008634  0.491343\n",
            "1     -1.738523 -1.240112  2.780053  ... -0.034555 -0.008634  0.491343\n",
            "2     -1.738313  0.795168 -0.359705  ... -0.034555 -0.008634  0.491343\n",
            "3     -1.737510  1.218089 -0.359705  ... -0.034555 -0.008634  0.491343\n",
            "4     -1.737406 -1.700203 -0.359705  ... -0.034555 -0.008634  0.491343\n",
            "...         ...       ...       ...  ...       ...       ...       ...\n",
            "13411  1.751921 -0.710214 -0.359705  ... -0.034555 -0.008634  0.491343\n",
            "13412  1.751956 -0.299078 -0.359705  ... -0.034555 -0.008634  0.491343\n",
            "13413  1.751991  0.324198 -0.359705  ... -0.034555 -0.008634  0.491343\n",
            "13414  1.752096  1.016374 -0.359705  ... -0.034555 -0.008634  0.491343\n",
            "13415  1.752200  0.939315 -0.359705  ... -0.034555 -0.008634 -2.035240\n",
            "\n",
            "[13416 rows x 12 columns]\n"
          ]
        }
      ],
      "source": [
        "from sklearn.preprocessing import StandardScaler\n",
        "# standardize: mean = 0, std = 1\n",
        "scaler = StandardScaler()\n",
        "scaled_features = scaler.fit_transform(df_feat)\n",
        "X = pd.DataFrame(scaled_features)\n",
        "print(X)"
      ]
    },
    {
      "cell_type": "code",
      "execution_count": 10,
      "id": "db3965f6",
      "metadata": {
        "id": "db3965f6"
      },
      "outputs": [],
      "source": [
        "from sklearn.model_selection import train_test_split\n",
        "from sklearn.model_selection import GridSearchCV\n",
        "X_train, X_test, y_train, y_test = train_test_split(X, y)"
      ]
    },
    {
      "cell_type": "code",
      "execution_count": null,
      "id": "54fc72c2",
      "metadata": {
        "id": "54fc72c2",
        "cellView": "code"
      },
      "outputs": [],
      "source": [
        "#@title Default title text\n",
        "from sklearn.ensemble import RandomForestClassifier\n",
        "from sklearn.metrics import accuracy_score\n",
        "\n",
        "\n",
        "for i in range(1,400):\n",
        "    classifier = RandomForestClassifier(n_estimators=i, oob_score=False)\n",
        "    classifier.fit(X_train, y_train)\n",
        "    \n",
        "    y_pred = classifier.predict(X_test)\n",
        "    print(\"i: \", i, \";\\tAccuracy:\", accuracy_score(y_test, y_pred))\n",
        "    print('Score: ', classifier.score(X_train, y_train))\n",
        "#     print(classifier.oob_score_)\n",
        "    print('---')\n"
      ]
    },
    {
      "cell_type": "code",
      "execution_count": 12,
      "id": "5scjFCSajcXN",
      "metadata": {
        "id": "5scjFCSajcXN"
      },
      "outputs": [],
      "source": [
        "grid_params = {\n",
        "    \"n_estimators\" : range(200, 300, 10)\n",
        "}"
      ]
    },
    {
      "cell_type": "code",
      "execution_count": 13,
      "id": "P4ayGB56i6vY",
      "metadata": {
        "colab": {
          "base_uri": "https://localhost:8080/"
        },
        "id": "P4ayGB56i6vY",
        "outputId": "587c9b1b-3b72-410a-e5ea-66915fd332b0"
      },
      "outputs": [
        {
          "output_type": "stream",
          "name": "stdout",
          "text": [
            "Fitting 5 folds for each of 10 candidates, totalling 50 fits\n"
          ]
        },
        {
          "output_type": "execute_result",
          "data": {
            "text/plain": [
              "{'n_estimators': 280}"
            ]
          },
          "metadata": {},
          "execution_count": 13
        }
      ],
      "source": [
        "RF = RandomForestClassifier(oob_score=False)\n",
        "gs = GridSearchCV(RF, grid_params, verbose= 1, n_jobs= -1)\n",
        "gs.fit(X_train, y_train)\n",
        "gs.best_params_"
      ]
    },
    {
      "cell_type": "code",
      "execution_count": 17,
      "id": "6b0d5186",
      "metadata": {
        "colab": {
          "base_uri": "https://localhost:8080/"
        },
        "id": "6b0d5186",
        "outputId": "11bd77ec-5cd0-4fac-ccac-e95d9551fc05"
      },
      "outputs": [
        {
          "output_type": "stream",
          "name": "stdout",
          "text": [
            "Fitting 5 folds for each of 10 candidates, totalling 50 fits\n",
            "Fitting 5 folds for each of 10 candidates, totalling 50 fits\n",
            "Fitting 5 folds for each of 10 candidates, totalling 50 fits\n",
            "Fitting 5 folds for each of 10 candidates, totalling 50 fits\n",
            "Fitting 5 folds for each of 10 candidates, totalling 50 fits\n",
            "Fitting 5 folds for each of 10 candidates, totalling 50 fits\n",
            "{'Cluster0': 0.8084472049689441, 'Cluster1': 0.6638655462184874, 'Cluster2': 0.7596685082872928, 'Cluster3': 0.7522485690923958, 'Cluster4': 0.6818489289740699, 'Cluster5': 0.6925865733216652}\n",
            "{'Cluster0': 250, 'Cluster1': 210, 'Cluster2': 260, 'Cluster3': 250, 'Cluster4': 220, 'Cluster5': 290}\n"
          ]
        }
      ],
      "source": [
        "clusters = [\"Cluster0\", \"Cluster1\", \"Cluster2\", \"Cluster3\", \"Cluster4\", \"Cluster5\"]\n",
        "RF = RandomForestClassifier(n_estimators = 280)\n",
        "accuracyDict = {}\n",
        "numEstimatorsDict = {}\n",
        "\n",
        "for clust in clusters:\n",
        "    # Preprocessing\n",
        "    path_k = \"./\" + clust\n",
        "    df = pd.read_csv(path_k, delimiter=',')\n",
        "    df_feat = df.drop([\"id\", \"cardio\"], axis = 1)\n",
        "    y = df.loc[:,\"cardio\"]\n",
        "    scaler = StandardScaler()\n",
        "    scaled_features = scaler.fit_transform(df_feat)\n",
        "    X = pd.DataFrame(scaled_features)\n",
        "    X_train, X_test, y_train, y_test = train_test_split(X, y, test_size=0.3, random_state=0)\n",
        "    \n",
        "    # Train model\n",
        "    gs = GridSearchCV(RF, grid_params, verbose= 1, n_jobs=-1)\n",
        "    gs.fit(X_train, y_train)\n",
        "    RF = RandomForestClassifier(n_estimators = gs.best_params_[\"n_estimators\"])\n",
        "    RF.fit(X_train, y_train)\n",
        "    \n",
        "    # Store accuracies\n",
        "    y_pred = RF.predict(X_test)\n",
        "    accuracyDict[clust] = accuracy_score(y_test, y_pred)\n",
        "    \n",
        "    # Store best # of estimtators\n",
        "    numEstimatorsDict[clust] = gs.best_params_[\"n_estimators\"]\n",
        "    \n",
        "print(accuracyDict)\n",
        "print(numEstimatorsDict)"
      ]
    },
    {
      "cell_type": "code",
      "source": [
        "print(accuracyDict)\n",
        "print(numEstimatorsDict)"
      ],
      "metadata": {
        "id": "8sE48k2Sxkt_",
        "outputId": "c738a2f2-f3a8-4c94-801d-efe003fd7b6a",
        "colab": {
          "base_uri": "https://localhost:8080/"
        }
      },
      "id": "8sE48k2Sxkt_",
      "execution_count": 18,
      "outputs": [
        {
          "output_type": "stream",
          "name": "stdout",
          "text": [
            "{'Cluster0': 0.8084472049689441, 'Cluster1': 0.6638655462184874, 'Cluster2': 0.7596685082872928, 'Cluster3': 0.7522485690923958, 'Cluster4': 0.6818489289740699, 'Cluster5': 0.6925865733216652}\n",
            "{'Cluster0': 250, 'Cluster1': 210, 'Cluster2': 260, 'Cluster3': 250, 'Cluster4': 220, 'Cluster5': 290}\n"
          ]
        }
      ]
    },
    {
      "cell_type": "code",
      "execution_count": 21,
      "id": "ibOoQ1Vstdgi",
      "metadata": {
        "colab": {
          "base_uri": "https://localhost:8080/",
          "height": 206
        },
        "id": "ibOoQ1Vstdgi",
        "outputId": "bffd08db-ad41-4aca-e649-8331b5621e2d"
      },
      "outputs": [
        {
          "output_type": "execute_result",
          "data": {
            "text/html": [
              "<div>\n",
              "<style scoped>\n",
              "    .dataframe tbody tr th:only-of-type {\n",
              "        vertical-align: middle;\n",
              "    }\n",
              "\n",
              "    .dataframe tbody tr th {\n",
              "        vertical-align: top;\n",
              "    }\n",
              "\n",
              "    .dataframe thead th {\n",
              "        text-align: right;\n",
              "    }\n",
              "</style>\n",
              "<table border=\"1\" class=\"dataframe\">\n",
              "  <thead>\n",
              "    <tr style=\"text-align: right;\">\n",
              "      <th></th>\n",
              "      <th>Unnamed: 0</th>\n",
              "      <th>id</th>\n",
              "      <th>age</th>\n",
              "      <th>gender</th>\n",
              "      <th>height</th>\n",
              "      <th>weight</th>\n",
              "      <th>ap_hi</th>\n",
              "      <th>ap_lo</th>\n",
              "      <th>cholesterol</th>\n",
              "      <th>gluc</th>\n",
              "      <th>smoke</th>\n",
              "      <th>alco</th>\n",
              "      <th>active</th>\n",
              "      <th>cardio</th>\n",
              "      <th>label</th>\n",
              "    </tr>\n",
              "  </thead>\n",
              "  <tbody>\n",
              "    <tr>\n",
              "      <th>0</th>\n",
              "      <td>0</td>\n",
              "      <td>0</td>\n",
              "      <td>18393</td>\n",
              "      <td>2</td>\n",
              "      <td>168</td>\n",
              "      <td>62.0</td>\n",
              "      <td>110</td>\n",
              "      <td>80</td>\n",
              "      <td>1</td>\n",
              "      <td>1</td>\n",
              "      <td>0</td>\n",
              "      <td>0</td>\n",
              "      <td>1</td>\n",
              "      <td>0</td>\n",
              "      <td>2</td>\n",
              "    </tr>\n",
              "    <tr>\n",
              "      <th>1</th>\n",
              "      <td>1</td>\n",
              "      <td>1</td>\n",
              "      <td>20228</td>\n",
              "      <td>1</td>\n",
              "      <td>156</td>\n",
              "      <td>85.0</td>\n",
              "      <td>140</td>\n",
              "      <td>90</td>\n",
              "      <td>3</td>\n",
              "      <td>1</td>\n",
              "      <td>0</td>\n",
              "      <td>0</td>\n",
              "      <td>1</td>\n",
              "      <td>1</td>\n",
              "      <td>0</td>\n",
              "    </tr>\n",
              "    <tr>\n",
              "      <th>2</th>\n",
              "      <td>2</td>\n",
              "      <td>2</td>\n",
              "      <td>18857</td>\n",
              "      <td>1</td>\n",
              "      <td>165</td>\n",
              "      <td>64.0</td>\n",
              "      <td>130</td>\n",
              "      <td>70</td>\n",
              "      <td>3</td>\n",
              "      <td>1</td>\n",
              "      <td>0</td>\n",
              "      <td>0</td>\n",
              "      <td>0</td>\n",
              "      <td>1</td>\n",
              "      <td>3</td>\n",
              "    </tr>\n",
              "    <tr>\n",
              "      <th>3</th>\n",
              "      <td>3</td>\n",
              "      <td>3</td>\n",
              "      <td>17623</td>\n",
              "      <td>2</td>\n",
              "      <td>169</td>\n",
              "      <td>82.0</td>\n",
              "      <td>150</td>\n",
              "      <td>100</td>\n",
              "      <td>1</td>\n",
              "      <td>1</td>\n",
              "      <td>0</td>\n",
              "      <td>0</td>\n",
              "      <td>1</td>\n",
              "      <td>1</td>\n",
              "      <td>0</td>\n",
              "    </tr>\n",
              "    <tr>\n",
              "      <th>4</th>\n",
              "      <td>4</td>\n",
              "      <td>4</td>\n",
              "      <td>17474</td>\n",
              "      <td>1</td>\n",
              "      <td>156</td>\n",
              "      <td>56.0</td>\n",
              "      <td>100</td>\n",
              "      <td>60</td>\n",
              "      <td>1</td>\n",
              "      <td>1</td>\n",
              "      <td>0</td>\n",
              "      <td>0</td>\n",
              "      <td>0</td>\n",
              "      <td>0</td>\n",
              "      <td>3</td>\n",
              "    </tr>\n",
              "  </tbody>\n",
              "</table>\n",
              "</div>"
            ],
            "text/plain": [
              "   Unnamed: 0  id    age  gender  height  ...  smoke  alco  active  cardio  label\n",
              "0           0   0  18393       2     168  ...      0     0       1       0      2\n",
              "1           1   1  20228       1     156  ...      0     0       1       1      0\n",
              "2           2   2  18857       1     165  ...      0     0       0       1      3\n",
              "3           3   3  17623       2     169  ...      0     0       1       1      0\n",
              "4           4   4  17474       1     156  ...      0     0       0       0      3\n",
              "\n",
              "[5 rows x 15 columns]"
            ]
          },
          "metadata": {},
          "execution_count": 21
        }
      ],
      "source": [
        "# Entire dataset\n",
        "\n",
        "df = pd.read_csv(\"cardio_train.csv\", delimiter = \",\")\n",
        "df.head()"
      ]
    },
    {
      "cell_type": "code",
      "execution_count": 22,
      "id": "9DfI3YuGtrre",
      "metadata": {
        "id": "9DfI3YuGtrre"
      },
      "outputs": [],
      "source": [
        "targ = df['cardio']"
      ]
    },
    {
      "cell_type": "code",
      "execution_count": 24,
      "id": "yeVbFI7atw72",
      "metadata": {
        "colab": {
          "base_uri": "https://localhost:8080/",
          "height": 206
        },
        "id": "yeVbFI7atw72",
        "outputId": "536689c9-e4d0-4414-c541-ed59db8dfae3"
      },
      "outputs": [
        {
          "output_type": "execute_result",
          "data": {
            "text/html": [
              "<div>\n",
              "<style scoped>\n",
              "    .dataframe tbody tr th:only-of-type {\n",
              "        vertical-align: middle;\n",
              "    }\n",
              "\n",
              "    .dataframe tbody tr th {\n",
              "        vertical-align: top;\n",
              "    }\n",
              "\n",
              "    .dataframe thead th {\n",
              "        text-align: right;\n",
              "    }\n",
              "</style>\n",
              "<table border=\"1\" class=\"dataframe\">\n",
              "  <thead>\n",
              "    <tr style=\"text-align: right;\">\n",
              "      <th></th>\n",
              "      <th>Unnamed: 0</th>\n",
              "      <th>age</th>\n",
              "      <th>gender</th>\n",
              "      <th>height</th>\n",
              "      <th>weight</th>\n",
              "      <th>ap_hi</th>\n",
              "      <th>ap_lo</th>\n",
              "      <th>cholesterol</th>\n",
              "      <th>gluc</th>\n",
              "      <th>smoke</th>\n",
              "      <th>alco</th>\n",
              "      <th>active</th>\n",
              "      <th>label</th>\n",
              "    </tr>\n",
              "  </thead>\n",
              "  <tbody>\n",
              "    <tr>\n",
              "      <th>0</th>\n",
              "      <td>0</td>\n",
              "      <td>18393</td>\n",
              "      <td>2</td>\n",
              "      <td>168</td>\n",
              "      <td>62.0</td>\n",
              "      <td>110</td>\n",
              "      <td>80</td>\n",
              "      <td>1</td>\n",
              "      <td>1</td>\n",
              "      <td>0</td>\n",
              "      <td>0</td>\n",
              "      <td>1</td>\n",
              "      <td>2</td>\n",
              "    </tr>\n",
              "    <tr>\n",
              "      <th>1</th>\n",
              "      <td>1</td>\n",
              "      <td>20228</td>\n",
              "      <td>1</td>\n",
              "      <td>156</td>\n",
              "      <td>85.0</td>\n",
              "      <td>140</td>\n",
              "      <td>90</td>\n",
              "      <td>3</td>\n",
              "      <td>1</td>\n",
              "      <td>0</td>\n",
              "      <td>0</td>\n",
              "      <td>1</td>\n",
              "      <td>0</td>\n",
              "    </tr>\n",
              "    <tr>\n",
              "      <th>2</th>\n",
              "      <td>2</td>\n",
              "      <td>18857</td>\n",
              "      <td>1</td>\n",
              "      <td>165</td>\n",
              "      <td>64.0</td>\n",
              "      <td>130</td>\n",
              "      <td>70</td>\n",
              "      <td>3</td>\n",
              "      <td>1</td>\n",
              "      <td>0</td>\n",
              "      <td>0</td>\n",
              "      <td>0</td>\n",
              "      <td>3</td>\n",
              "    </tr>\n",
              "    <tr>\n",
              "      <th>3</th>\n",
              "      <td>3</td>\n",
              "      <td>17623</td>\n",
              "      <td>2</td>\n",
              "      <td>169</td>\n",
              "      <td>82.0</td>\n",
              "      <td>150</td>\n",
              "      <td>100</td>\n",
              "      <td>1</td>\n",
              "      <td>1</td>\n",
              "      <td>0</td>\n",
              "      <td>0</td>\n",
              "      <td>1</td>\n",
              "      <td>0</td>\n",
              "    </tr>\n",
              "    <tr>\n",
              "      <th>4</th>\n",
              "      <td>4</td>\n",
              "      <td>17474</td>\n",
              "      <td>1</td>\n",
              "      <td>156</td>\n",
              "      <td>56.0</td>\n",
              "      <td>100</td>\n",
              "      <td>60</td>\n",
              "      <td>1</td>\n",
              "      <td>1</td>\n",
              "      <td>0</td>\n",
              "      <td>0</td>\n",
              "      <td>0</td>\n",
              "      <td>3</td>\n",
              "    </tr>\n",
              "  </tbody>\n",
              "</table>\n",
              "</div>"
            ],
            "text/plain": [
              "   Unnamed: 0    age  gender  height  weight  ...  gluc  smoke  alco  active  label\n",
              "0           0  18393       2     168    62.0  ...     1      0     0       1      2\n",
              "1           1  20228       1     156    85.0  ...     1      0     0       1      0\n",
              "2           2  18857       1     165    64.0  ...     1      0     0       0      3\n",
              "3           3  17623       2     169    82.0  ...     1      0     0       1      0\n",
              "4           4  17474       1     156    56.0  ...     1      0     0       0      3\n",
              "\n",
              "[5 rows x 13 columns]"
            ]
          },
          "metadata": {},
          "execution_count": 24
        }
      ],
      "source": [
        "df_feat = df.drop([\"cardio\", \"id\"], axis = 1)\n",
        "df_feat.head()"
      ]
    },
    {
      "cell_type": "code",
      "execution_count": 25,
      "id": "20JFInjgt13e",
      "metadata": {
        "colab": {
          "base_uri": "https://localhost:8080/"
        },
        "id": "20JFInjgt13e",
        "outputId": "4c2bc914-c64b-479b-b51d-7fbd8313e516"
      },
      "outputs": [
        {
          "output_type": "stream",
          "name": "stdout",
          "text": [
            "             0         1         2   ...        10        11        12\n",
            "0     -1.732709 -0.434078  1.367567  ... -0.237475  0.494776 -0.191963\n",
            "1     -1.732659  0.309349 -0.731226  ... -0.237475  0.494776 -1.612610\n",
            "2     -1.732610 -0.246094 -0.731226  ... -0.237475 -2.021118  0.518361\n",
            "3     -1.732560 -0.746033  1.367567  ... -0.237475  0.494776 -1.612610\n",
            "4     -1.732511 -0.806399 -0.731226  ... -0.237475 -2.021118  0.518361\n",
            "...         ...       ...       ...  ...       ...       ...       ...\n",
            "68499  1.732257 -0.090927  1.367567  ... -0.237475  0.494776 -0.902286\n",
            "68500  1.732307  1.270739 -0.731226  ... -0.237475  0.494776 -1.612610\n",
            "68501  1.732356 -0.161420  1.367567  ...  4.210973 -2.021118  1.939008\n",
            "68502  1.732406  1.201866 -0.731226  ... -0.237475 -2.021118 -1.612610\n",
            "68503  1.732455  0.435752 -0.731226  ... -0.237475  0.494776  0.518361\n",
            "\n",
            "[68504 rows x 13 columns]\n"
          ]
        }
      ],
      "source": [
        "scaler = StandardScaler()\n",
        "scaled_features = scaler.fit_transform(df_feat)\n",
        "X = pd.DataFrame(scaled_features)\n",
        "print(X)"
      ]
    },
    {
      "cell_type": "code",
      "execution_count": 26,
      "id": "x3avAKqFt83o",
      "metadata": {
        "id": "x3avAKqFt83o"
      },
      "outputs": [],
      "source": [
        "X_train, X_test, y_train, y_test = train_test_split(X, targ)"
      ]
    },
    {
      "cell_type": "code",
      "execution_count": 27,
      "id": "PRwqh4FRubS2",
      "metadata": {
        "colab": {
          "base_uri": "https://localhost:8080/"
        },
        "id": "PRwqh4FRubS2",
        "outputId": "17bc29c4-b035-47ec-aa36-bb98e16b3c55"
      },
      "outputs": [
        {
          "output_type": "execute_result",
          "data": {
            "text/plain": [
              "{'n_estimators': range(200, 300, 10)}"
            ]
          },
          "metadata": {},
          "execution_count": 27
        }
      ],
      "source": [
        "grid_params"
      ]
    },
    {
      "cell_type": "code",
      "execution_count": 28,
      "id": "Ia9pN11SuEjI",
      "metadata": {
        "colab": {
          "base_uri": "https://localhost:8080/"
        },
        "id": "Ia9pN11SuEjI",
        "outputId": "1681367c-b9df-43b2-b655-7fefdb08c455"
      },
      "outputs": [
        {
          "output_type": "stream",
          "name": "stdout",
          "text": [
            "Fitting 5 folds for each of 10 candidates, totalling 50 fits\n",
            "[CV] END ...................................n_estimators=200; total time=  14.9s\n",
            "[CV] END ...................................n_estimators=200; total time=  14.6s\n",
            "[CV] END ...................................n_estimators=200; total time=  14.5s\n",
            "[CV] END ...................................n_estimators=200; total time=  14.6s\n",
            "[CV] END ...................................n_estimators=200; total time=  14.7s\n",
            "[CV] END ...................................n_estimators=210; total time=  15.5s\n",
            "[CV] END ...................................n_estimators=210; total time=  15.6s\n",
            "[CV] END ...................................n_estimators=210; total time=  15.7s\n",
            "[CV] END ...................................n_estimators=210; total time=  15.9s\n",
            "[CV] END ...................................n_estimators=210; total time=  15.4s\n",
            "[CV] END ...................................n_estimators=220; total time=  16.1s\n",
            "[CV] END ...................................n_estimators=220; total time=  16.0s\n",
            "[CV] END ...................................n_estimators=220; total time=  16.2s\n",
            "[CV] END ...................................n_estimators=220; total time=  16.1s\n",
            "[CV] END ...................................n_estimators=220; total time=  16.1s\n",
            "[CV] END ...................................n_estimators=230; total time=  16.7s\n",
            "[CV] END ...................................n_estimators=230; total time=  16.7s\n",
            "[CV] END ...................................n_estimators=230; total time=  17.0s\n",
            "[CV] END ...................................n_estimators=230; total time=  16.9s\n",
            "[CV] END ...................................n_estimators=230; total time=  17.0s\n",
            "[CV] END ...................................n_estimators=240; total time=  17.6s\n",
            "[CV] END ...................................n_estimators=240; total time=  17.5s\n",
            "[CV] END ...................................n_estimators=240; total time=  17.7s\n",
            "[CV] END ...................................n_estimators=240; total time=  17.7s\n",
            "[CV] END ...................................n_estimators=240; total time=  17.8s\n",
            "[CV] END ...................................n_estimators=250; total time=  18.6s\n",
            "[CV] END ...................................n_estimators=250; total time=  18.8s\n",
            "[CV] END ...................................n_estimators=250; total time=  19.0s\n",
            "[CV] END ...................................n_estimators=250; total time=  18.5s\n",
            "[CV] END ...................................n_estimators=250; total time=  18.5s\n",
            "[CV] END ...................................n_estimators=260; total time=  19.0s\n",
            "[CV] END ...................................n_estimators=260; total time=  19.0s\n",
            "[CV] END ...................................n_estimators=260; total time=  19.0s\n",
            "[CV] END ...................................n_estimators=260; total time=  18.9s\n",
            "[CV] END ...................................n_estimators=260; total time=  18.9s\n",
            "[CV] END ...................................n_estimators=270; total time=  19.5s\n",
            "[CV] END ...................................n_estimators=270; total time=  19.5s\n",
            "[CV] END ...................................n_estimators=270; total time=  19.6s\n",
            "[CV] END ...................................n_estimators=270; total time=  19.5s\n",
            "[CV] END ...................................n_estimators=270; total time=  19.5s\n",
            "[CV] END ...................................n_estimators=280; total time=  20.6s\n",
            "[CV] END ...................................n_estimators=280; total time=  20.6s\n",
            "[CV] END ...................................n_estimators=280; total time=  20.5s\n",
            "[CV] END ...................................n_estimators=280; total time=  20.4s\n",
            "[CV] END ...................................n_estimators=280; total time=  20.5s\n",
            "[CV] END ...................................n_estimators=290; total time=  21.2s\n",
            "[CV] END ...................................n_estimators=290; total time=  21.0s\n",
            "[CV] END ...................................n_estimators=290; total time=  21.3s\n",
            "[CV] END ...................................n_estimators=290; total time=  21.1s\n",
            "[CV] END ...................................n_estimators=290; total time=  21.2s\n"
          ]
        },
        {
          "output_type": "execute_result",
          "data": {
            "text/plain": [
              "0.7225271516991708"
            ]
          },
          "metadata": {},
          "execution_count": 28
        }
      ],
      "source": [
        "forest = RandomForestClassifier()\n",
        "gs = GridSearchCV(forest, grid_params, verbose= 2)\n",
        "gs.fit(X_train, y_train)\n",
        "forest = RandomForestClassifier(n_estimators=gs.best_params_[\"n_estimators\"])\n",
        "forest.fit(X_train, y_train)\n",
        "preds = forest.predict(X_test)\n",
        "accuracy = accuracy_score(y_test, preds)\n",
        "accuracy"
      ]
    }
  ],
  "metadata": {
    "colab": {
      "name": "Random Forests.ipynb",
      "provenance": []
    },
    "kernelspec": {
      "display_name": "Python 3",
      "language": "python",
      "name": "python3"
    },
    "language_info": {
      "codemirror_mode": {
        "name": "ipython",
        "version": 3
      },
      "file_extension": ".py",
      "mimetype": "text/x-python",
      "name": "python",
      "nbconvert_exporter": "python",
      "pygments_lexer": "ipython3",
      "version": "3.8.8"
    }
  },
  "nbformat": 4,
  "nbformat_minor": 5
}