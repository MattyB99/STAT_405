{
  "nbformat": 4,
  "nbformat_minor": 5,
  "metadata": {
    "kernelspec": {
      "display_name": "Python 3",
      "language": "python",
      "name": "python3"
    },
    "language_info": {
      "codemirror_mode": {
        "name": "ipython",
        "version": 3
      },
      "file_extension": ".py",
      "mimetype": "text/x-python",
      "name": "python",
      "nbconvert_exporter": "python",
      "pygments_lexer": "ipython3",
      "version": "3.8.8"
    },
    "colab": {
      "name": "ObservationAnalysis-checkpoint.ipynb",
      "provenance": []
    }
  },
  "cells": [
    {
      "cell_type": "code",
      "metadata": {
        "id": "9e5cd1d3"
      },
      "source": [
        "import pandas as pd\n",
        "import matplotlib.pyplot as plt\n",
        "import csv"
      ],
      "id": "9e5cd1d3",
      "execution_count": 87,
      "outputs": []
    },
    {
      "cell_type": "code",
      "metadata": {
        "id": "f6b5885f"
      },
      "source": [
        "df = pd.read_csv('cardio_train.csv', delimiter=';')"
      ],
      "id": "f6b5885f",
      "execution_count": 88,
      "outputs": []
    },
    {
      "cell_type": "code",
      "metadata": {
        "colab": {
          "base_uri": "https://localhost:8080/"
        },
        "id": "8b3e5420",
        "outputId": "f80b8c51-19e4-46c4-e074-925744aec5bd"
      },
      "source": [
        "print(df.head())"
      ],
      "id": "8b3e5420",
      "execution_count": 89,
      "outputs": [
        {
          "output_type": "stream",
          "name": "stdout",
          "text": [
            "   id    age  gender  height  weight  ...  gluc  smoke  alco  active  cardio\n",
            "0   0  18393       2     168    62.0  ...     1      0     0       1       0\n",
            "1   1  20228       1     156    85.0  ...     1      0     0       1       1\n",
            "2   2  18857       1     165    64.0  ...     1      0     0       0       1\n",
            "3   3  17623       2     169    82.0  ...     1      0     0       1       1\n",
            "4   4  17474       1     156    56.0  ...     1      0     0       0       0\n",
            "\n",
            "[5 rows x 13 columns]\n"
          ]
        }
      ]
    },
    {
      "cell_type": "code",
      "metadata": {
        "colab": {
          "base_uri": "https://localhost:8080/"
        },
        "id": "c01781cc",
        "outputId": "ad969933-27d3-4efa-fa7d-655476b73881"
      },
      "source": [
        "print(\"Number of observations: \" + str(df.shape[0]))"
      ],
      "id": "c01781cc",
      "execution_count": 90,
      "outputs": [
        {
          "output_type": "stream",
          "name": "stdout",
          "text": [
            "Number of observations: 70000\n"
          ]
        }
      ]
    },
    {
      "cell_type": "code",
      "metadata": {
        "colab": {
          "base_uri": "https://localhost:8080/"
        },
        "id": "b7feb7d3",
        "outputId": "3674edcd-8047-48a6-93e6-5a8964d3f485"
      },
      "source": [
        "print(df.isnull().sum()) # Total number of NaN values\n",
        "print(df.isna().sum()) # Total number of empty values"
      ],
      "id": "b7feb7d3",
      "execution_count": 91,
      "outputs": [
        {
          "output_type": "stream",
          "name": "stdout",
          "text": [
            "id             0\n",
            "age            0\n",
            "gender         0\n",
            "height         0\n",
            "weight         0\n",
            "ap_hi          0\n",
            "ap_lo          0\n",
            "cholesterol    0\n",
            "gluc           0\n",
            "smoke          0\n",
            "alco           0\n",
            "active         0\n",
            "cardio         0\n",
            "dtype: int64\n",
            "id             0\n",
            "age            0\n",
            "gender         0\n",
            "height         0\n",
            "weight         0\n",
            "ap_hi          0\n",
            "ap_lo          0\n",
            "cholesterol    0\n",
            "gluc           0\n",
            "smoke          0\n",
            "alco           0\n",
            "active         0\n",
            "cardio         0\n",
            "dtype: int64\n"
          ]
        }
      ]
    },
    {
      "cell_type": "code",
      "metadata": {
        "colab": {
          "base_uri": "https://localhost:8080/"
        },
        "id": "18921cb4",
        "outputId": "09a54c43-9a09-48f9-e14c-b718d7269d99"
      },
      "source": [
        "df.shape"
      ],
      "id": "18921cb4",
      "execution_count": 92,
      "outputs": [
        {
          "output_type": "execute_result",
          "data": {
            "text/plain": [
              "(70000, 13)"
            ]
          },
          "metadata": {},
          "execution_count": 92
        }
      ]
    },
    {
      "cell_type": "code",
      "metadata": {
        "colab": {
          "base_uri": "https://localhost:8080/",
          "height": 203
        },
        "id": "JQbI7HHGlMHn",
        "outputId": "681a23ee-54ba-4257-e147-079bb802ac86"
      },
      "source": [
        "feat = df.loc[:,\"id\":\"active\"]\n",
        "target = df.loc[:, \"cardio\"]\n",
        "feat.head()"
      ],
      "id": "JQbI7HHGlMHn",
      "execution_count": 93,
      "outputs": [
        {
          "output_type": "execute_result",
          "data": {
            "text/html": [
              "<div>\n",
              "<style scoped>\n",
              "    .dataframe tbody tr th:only-of-type {\n",
              "        vertical-align: middle;\n",
              "    }\n",
              "\n",
              "    .dataframe tbody tr th {\n",
              "        vertical-align: top;\n",
              "    }\n",
              "\n",
              "    .dataframe thead th {\n",
              "        text-align: right;\n",
              "    }\n",
              "</style>\n",
              "<table border=\"1\" class=\"dataframe\">\n",
              "  <thead>\n",
              "    <tr style=\"text-align: right;\">\n",
              "      <th></th>\n",
              "      <th>id</th>\n",
              "      <th>age</th>\n",
              "      <th>gender</th>\n",
              "      <th>height</th>\n",
              "      <th>weight</th>\n",
              "      <th>ap_hi</th>\n",
              "      <th>ap_lo</th>\n",
              "      <th>cholesterol</th>\n",
              "      <th>gluc</th>\n",
              "      <th>smoke</th>\n",
              "      <th>alco</th>\n",
              "      <th>active</th>\n",
              "    </tr>\n",
              "  </thead>\n",
              "  <tbody>\n",
              "    <tr>\n",
              "      <th>0</th>\n",
              "      <td>0</td>\n",
              "      <td>18393</td>\n",
              "      <td>2</td>\n",
              "      <td>168</td>\n",
              "      <td>62.0</td>\n",
              "      <td>110</td>\n",
              "      <td>80</td>\n",
              "      <td>1</td>\n",
              "      <td>1</td>\n",
              "      <td>0</td>\n",
              "      <td>0</td>\n",
              "      <td>1</td>\n",
              "    </tr>\n",
              "    <tr>\n",
              "      <th>1</th>\n",
              "      <td>1</td>\n",
              "      <td>20228</td>\n",
              "      <td>1</td>\n",
              "      <td>156</td>\n",
              "      <td>85.0</td>\n",
              "      <td>140</td>\n",
              "      <td>90</td>\n",
              "      <td>3</td>\n",
              "      <td>1</td>\n",
              "      <td>0</td>\n",
              "      <td>0</td>\n",
              "      <td>1</td>\n",
              "    </tr>\n",
              "    <tr>\n",
              "      <th>2</th>\n",
              "      <td>2</td>\n",
              "      <td>18857</td>\n",
              "      <td>1</td>\n",
              "      <td>165</td>\n",
              "      <td>64.0</td>\n",
              "      <td>130</td>\n",
              "      <td>70</td>\n",
              "      <td>3</td>\n",
              "      <td>1</td>\n",
              "      <td>0</td>\n",
              "      <td>0</td>\n",
              "      <td>0</td>\n",
              "    </tr>\n",
              "    <tr>\n",
              "      <th>3</th>\n",
              "      <td>3</td>\n",
              "      <td>17623</td>\n",
              "      <td>2</td>\n",
              "      <td>169</td>\n",
              "      <td>82.0</td>\n",
              "      <td>150</td>\n",
              "      <td>100</td>\n",
              "      <td>1</td>\n",
              "      <td>1</td>\n",
              "      <td>0</td>\n",
              "      <td>0</td>\n",
              "      <td>1</td>\n",
              "    </tr>\n",
              "    <tr>\n",
              "      <th>4</th>\n",
              "      <td>4</td>\n",
              "      <td>17474</td>\n",
              "      <td>1</td>\n",
              "      <td>156</td>\n",
              "      <td>56.0</td>\n",
              "      <td>100</td>\n",
              "      <td>60</td>\n",
              "      <td>1</td>\n",
              "      <td>1</td>\n",
              "      <td>0</td>\n",
              "      <td>0</td>\n",
              "      <td>0</td>\n",
              "    </tr>\n",
              "  </tbody>\n",
              "</table>\n",
              "</div>"
            ],
            "text/plain": [
              "   id    age  gender  height  weight  ...  cholesterol  gluc  smoke  alco  active\n",
              "0   0  18393       2     168    62.0  ...            1     1      0     0       1\n",
              "1   1  20228       1     156    85.0  ...            3     1      0     0       1\n",
              "2   2  18857       1     165    64.0  ...            3     1      0     0       0\n",
              "3   3  17623       2     169    82.0  ...            1     1      0     0       1\n",
              "4   4  17474       1     156    56.0  ...            1     1      0     0       0\n",
              "\n",
              "[5 rows x 12 columns]"
            ]
          },
          "metadata": {},
          "execution_count": 93
        }
      ]
    },
    {
      "cell_type": "code",
      "metadata": {
        "id": "iTtCMOhkonNK"
      },
      "source": [
        "feat.columns = ['ID', \"Age\", \"Gender\", \"Height\", \"Weight\", \"Systolic Blood Pressure\", \"Diastolic Blood Pressure\", \"Cholesterol\", \" Glucose\", \"Smoking\", \"Alcohol Intake\", \"Physical Activity\"]"
      ],
      "id": "iTtCMOhkonNK",
      "execution_count": 94,
      "outputs": []
    },
    {
      "cell_type": "code",
      "metadata": {
        "id": "TnbTYZK9uPAL",
        "outputId": "e5117986-ce87-4b74-cd60-c6c12c6d83c4",
        "colab": {
          "base_uri": "https://localhost:8080/",
          "height": 203
        }
      },
      "source": [
        "feat.head()"
      ],
      "id": "TnbTYZK9uPAL",
      "execution_count": 95,
      "outputs": [
        {
          "output_type": "execute_result",
          "data": {
            "text/html": [
              "<div>\n",
              "<style scoped>\n",
              "    .dataframe tbody tr th:only-of-type {\n",
              "        vertical-align: middle;\n",
              "    }\n",
              "\n",
              "    .dataframe tbody tr th {\n",
              "        vertical-align: top;\n",
              "    }\n",
              "\n",
              "    .dataframe thead th {\n",
              "        text-align: right;\n",
              "    }\n",
              "</style>\n",
              "<table border=\"1\" class=\"dataframe\">\n",
              "  <thead>\n",
              "    <tr style=\"text-align: right;\">\n",
              "      <th></th>\n",
              "      <th>ID</th>\n",
              "      <th>Age</th>\n",
              "      <th>Gender</th>\n",
              "      <th>Height</th>\n",
              "      <th>Weight</th>\n",
              "      <th>Systolic Blood Pressure</th>\n",
              "      <th>Diastolic Blood Pressure</th>\n",
              "      <th>Cholesterol</th>\n",
              "      <th>Glucose</th>\n",
              "      <th>Smoking</th>\n",
              "      <th>Alcohol Intake</th>\n",
              "      <th>Physical Activity</th>\n",
              "    </tr>\n",
              "  </thead>\n",
              "  <tbody>\n",
              "    <tr>\n",
              "      <th>0</th>\n",
              "      <td>0</td>\n",
              "      <td>18393</td>\n",
              "      <td>2</td>\n",
              "      <td>168</td>\n",
              "      <td>62.0</td>\n",
              "      <td>110</td>\n",
              "      <td>80</td>\n",
              "      <td>1</td>\n",
              "      <td>1</td>\n",
              "      <td>0</td>\n",
              "      <td>0</td>\n",
              "      <td>1</td>\n",
              "    </tr>\n",
              "    <tr>\n",
              "      <th>1</th>\n",
              "      <td>1</td>\n",
              "      <td>20228</td>\n",
              "      <td>1</td>\n",
              "      <td>156</td>\n",
              "      <td>85.0</td>\n",
              "      <td>140</td>\n",
              "      <td>90</td>\n",
              "      <td>3</td>\n",
              "      <td>1</td>\n",
              "      <td>0</td>\n",
              "      <td>0</td>\n",
              "      <td>1</td>\n",
              "    </tr>\n",
              "    <tr>\n",
              "      <th>2</th>\n",
              "      <td>2</td>\n",
              "      <td>18857</td>\n",
              "      <td>1</td>\n",
              "      <td>165</td>\n",
              "      <td>64.0</td>\n",
              "      <td>130</td>\n",
              "      <td>70</td>\n",
              "      <td>3</td>\n",
              "      <td>1</td>\n",
              "      <td>0</td>\n",
              "      <td>0</td>\n",
              "      <td>0</td>\n",
              "    </tr>\n",
              "    <tr>\n",
              "      <th>3</th>\n",
              "      <td>3</td>\n",
              "      <td>17623</td>\n",
              "      <td>2</td>\n",
              "      <td>169</td>\n",
              "      <td>82.0</td>\n",
              "      <td>150</td>\n",
              "      <td>100</td>\n",
              "      <td>1</td>\n",
              "      <td>1</td>\n",
              "      <td>0</td>\n",
              "      <td>0</td>\n",
              "      <td>1</td>\n",
              "    </tr>\n",
              "    <tr>\n",
              "      <th>4</th>\n",
              "      <td>4</td>\n",
              "      <td>17474</td>\n",
              "      <td>1</td>\n",
              "      <td>156</td>\n",
              "      <td>56.0</td>\n",
              "      <td>100</td>\n",
              "      <td>60</td>\n",
              "      <td>1</td>\n",
              "      <td>1</td>\n",
              "      <td>0</td>\n",
              "      <td>0</td>\n",
              "      <td>0</td>\n",
              "    </tr>\n",
              "  </tbody>\n",
              "</table>\n",
              "</div>"
            ],
            "text/plain": [
              "   ID    Age  Gender  ...  Smoking  Alcohol Intake  Physical Activity\n",
              "0   0  18393       2  ...        0               0                  1\n",
              "1   1  20228       1  ...        0               0                  1\n",
              "2   2  18857       1  ...        0               0                  0\n",
              "3   3  17623       2  ...        0               0                  1\n",
              "4   4  17474       1  ...        0               0                  0\n",
              "\n",
              "[5 rows x 12 columns]"
            ]
          },
          "metadata": {},
          "execution_count": 95
        }
      ]
    },
    {
      "cell_type": "code",
      "metadata": {
        "id": "ZorJxaD6tJxJ"
      },
      "source": [
        "feat[\"Age\"] = (feat[\"Age\"] / 365).astype(int)"
      ],
      "id": "ZorJxaD6tJxJ",
      "execution_count": 100,
      "outputs": []
    },
    {
      "cell_type": "code",
      "metadata": {
        "colab": {
          "base_uri": "https://localhost:8080/",
          "height": 203
        },
        "id": "qTsMyHVpp_GY",
        "outputId": "cbdf6a03-481d-42c6-e980-ceb2bea87048"
      },
      "source": [
        "feat.head()"
      ],
      "id": "qTsMyHVpp_GY",
      "execution_count": 101,
      "outputs": [
        {
          "output_type": "execute_result",
          "data": {
            "text/html": [
              "<div>\n",
              "<style scoped>\n",
              "    .dataframe tbody tr th:only-of-type {\n",
              "        vertical-align: middle;\n",
              "    }\n",
              "\n",
              "    .dataframe tbody tr th {\n",
              "        vertical-align: top;\n",
              "    }\n",
              "\n",
              "    .dataframe thead th {\n",
              "        text-align: right;\n",
              "    }\n",
              "</style>\n",
              "<table border=\"1\" class=\"dataframe\">\n",
              "  <thead>\n",
              "    <tr style=\"text-align: right;\">\n",
              "      <th></th>\n",
              "      <th>ID</th>\n",
              "      <th>Age</th>\n",
              "      <th>Gender</th>\n",
              "      <th>Height</th>\n",
              "      <th>Weight</th>\n",
              "      <th>Systolic Blood Pressure</th>\n",
              "      <th>Diastolic Blood Pressure</th>\n",
              "      <th>Cholesterol</th>\n",
              "      <th>Glucose</th>\n",
              "      <th>Smoking</th>\n",
              "      <th>Alcohol Intake</th>\n",
              "      <th>Physical Activity</th>\n",
              "    </tr>\n",
              "  </thead>\n",
              "  <tbody>\n",
              "    <tr>\n",
              "      <th>0</th>\n",
              "      <td>0</td>\n",
              "      <td>50</td>\n",
              "      <td>2</td>\n",
              "      <td>168</td>\n",
              "      <td>62.0</td>\n",
              "      <td>110</td>\n",
              "      <td>80</td>\n",
              "      <td>1</td>\n",
              "      <td>1</td>\n",
              "      <td>0</td>\n",
              "      <td>0</td>\n",
              "      <td>1</td>\n",
              "    </tr>\n",
              "    <tr>\n",
              "      <th>1</th>\n",
              "      <td>1</td>\n",
              "      <td>55</td>\n",
              "      <td>1</td>\n",
              "      <td>156</td>\n",
              "      <td>85.0</td>\n",
              "      <td>140</td>\n",
              "      <td>90</td>\n",
              "      <td>3</td>\n",
              "      <td>1</td>\n",
              "      <td>0</td>\n",
              "      <td>0</td>\n",
              "      <td>1</td>\n",
              "    </tr>\n",
              "    <tr>\n",
              "      <th>2</th>\n",
              "      <td>2</td>\n",
              "      <td>51</td>\n",
              "      <td>1</td>\n",
              "      <td>165</td>\n",
              "      <td>64.0</td>\n",
              "      <td>130</td>\n",
              "      <td>70</td>\n",
              "      <td>3</td>\n",
              "      <td>1</td>\n",
              "      <td>0</td>\n",
              "      <td>0</td>\n",
              "      <td>0</td>\n",
              "    </tr>\n",
              "    <tr>\n",
              "      <th>3</th>\n",
              "      <td>3</td>\n",
              "      <td>48</td>\n",
              "      <td>2</td>\n",
              "      <td>169</td>\n",
              "      <td>82.0</td>\n",
              "      <td>150</td>\n",
              "      <td>100</td>\n",
              "      <td>1</td>\n",
              "      <td>1</td>\n",
              "      <td>0</td>\n",
              "      <td>0</td>\n",
              "      <td>1</td>\n",
              "    </tr>\n",
              "    <tr>\n",
              "      <th>4</th>\n",
              "      <td>4</td>\n",
              "      <td>47</td>\n",
              "      <td>1</td>\n",
              "      <td>156</td>\n",
              "      <td>56.0</td>\n",
              "      <td>100</td>\n",
              "      <td>60</td>\n",
              "      <td>1</td>\n",
              "      <td>1</td>\n",
              "      <td>0</td>\n",
              "      <td>0</td>\n",
              "      <td>0</td>\n",
              "    </tr>\n",
              "  </tbody>\n",
              "</table>\n",
              "</div>"
            ],
            "text/plain": [
              "   ID  Age  Gender  ...  Smoking  Alcohol Intake  Physical Activity\n",
              "0   0   50       2  ...        0               0                  1\n",
              "1   1   55       1  ...        0               0                  1\n",
              "2   2   51       1  ...        0               0                  0\n",
              "3   3   48       2  ...        0               0                  1\n",
              "4   4   47       1  ...        0               0                  0\n",
              "\n",
              "[5 rows x 12 columns]"
            ]
          },
          "metadata": {},
          "execution_count": 101
        }
      ]
    },
    {
      "cell_type": "code",
      "metadata": {
        "colab": {
          "base_uri": "https://localhost:8080/",
          "height": 1000
        },
        "id": "R9NRnCLJmNKQ",
        "outputId": "b7ab3025-4bdc-402e-fe91-01f151ec0726"
      },
      "source": [
        "yes = feat.loc[:,\"Age\":\"Physical Activity\"].hist(figsize=(15,15), bins = 15, density = True)\n",
        "yes"
      ],
      "id": "R9NRnCLJmNKQ",
      "execution_count": 103,
      "outputs": [
        {
          "output_type": "execute_result",
          "data": {
            "text/plain": [
              "array([[<matplotlib.axes._subplots.AxesSubplot object at 0x7fe34af1fa90>,\n",
              "        <matplotlib.axes._subplots.AxesSubplot object at 0x7fe33e2d3a90>,\n",
              "        <matplotlib.axes._subplots.AxesSubplot object at 0x7fe33e208590>],\n",
              "       [<matplotlib.axes._subplots.AxesSubplot object at 0x7fe33e1b9b10>,\n",
              "        <matplotlib.axes._subplots.AxesSubplot object at 0x7fe33e1790d0>,\n",
              "        <matplotlib.axes._subplots.AxesSubplot object at 0x7fe33e12e650>],\n",
              "       [<matplotlib.axes._subplots.AxesSubplot object at 0x7fe33e0e3c50>,\n",
              "        <matplotlib.axes._subplots.AxesSubplot object at 0x7fe33e0a7150>,\n",
              "        <matplotlib.axes._subplots.AxesSubplot object at 0x7fe33e0a7190>],\n",
              "       [<matplotlib.axes._subplots.AxesSubplot object at 0x7fe33e05a810>,\n",
              "        <matplotlib.axes._subplots.AxesSubplot object at 0x7fe33e054250>,\n",
              "        <matplotlib.axes._subplots.AxesSubplot object at 0x7fe33e00a7d0>]],\n",
              "      dtype=object)"
            ]
          },
          "metadata": {},
          "execution_count": 103
        },
        {
          "output_type": "display_data",
          "data": {
            "image/png": "[encoded data removed]",
            "text/plain": [
              "<Figure size 1080x1080 with 12 Axes>"
            ]
          },
          "metadata": {
            "needs_background": "light"
          }
        }
      ]
    },
    {
      "cell_type": "markdown",
      "metadata": {
        "id": "YtQPIUeCvQzW"
      },
      "source": [
        "The range of the hist funciton is determined by the maxiumum of the feature. So there are outliers."
      ],
      "id": "YtQPIUeCvQzW"
    },
    {
      "cell_type": "code",
      "metadata": {
        "id": "0EuhnHxCsdy3",
        "outputId": "c50a6bfd-9142-4561-9c20-61693aa8af5a",
        "colab": {
          "base_uri": "https://localhost:8080/",
          "height": 298
        }
      },
      "source": [
        "feat['Systolic Blood Pressure'].hist(bins = 30, range = (1,300))\n",
        "feat['Diastolic Blood Pressure'].hist(bins = 30, range = (1,300))\n",
        "plt.legend()"
      ],
      "id": "0EuhnHxCsdy3",
      "execution_count": 112,
      "outputs": [
        {
          "output_type": "stream",
          "name": "stderr",
          "text": [
            "No handles with labels found to put in legend.\n"
          ]
        },
        {
          "output_type": "execute_result",
          "data": {
            "text/plain": [
              "<matplotlib.legend.Legend at 0x7fe33d3b3090>"
            ]
          },
          "metadata": {},
          "execution_count": 112
        },
        {
          "output_type": "display_data",
          "data": {
            "image/png": "[encoded data removed]",
            "text/plain": [
              "<Figure size 432x288 with 1 Axes>"
            ]
          },
          "metadata": {
            "needs_background": "light"
          }
        }
      ]
    }
  ]
}